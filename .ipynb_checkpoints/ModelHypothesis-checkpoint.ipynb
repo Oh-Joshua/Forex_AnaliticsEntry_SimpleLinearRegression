{
 "cells": [
  {
   "cell_type": "markdown",
   "metadata": {},
   "source": [
    "# 単回帰分析を使って、FXのモデル仮説をする"
   ]
  },
  {
   "cell_type": "markdown",
   "metadata": {},
   "source": [
    "## ヒストリカルデータを読み込む"
   ]
  },
  {
   "cell_type": "code",
   "execution_count": 1,
   "metadata": {
    "collapsed": true
   },
   "outputs": [],
   "source": [
    "import pandas as pd"
   ]
  },
  {
   "cell_type": "code",
   "execution_count": 4,
   "metadata": {
    "collapsed": true
   },
   "outputs": [],
   "source": [
    "df = pd.read_csv('data/EURJPY_2017_all.csv')"
   ]
  },
  {
   "cell_type": "code",
   "execution_count": 5,
   "metadata": {
    "collapsed": false
   },
   "outputs": [
    {
     "data": {
      "text/html": [
       "<div>\n",
       "<table border=\"1\" class=\"dataframe\">\n",
       "  <thead>\n",
       "    <tr style=\"text-align: right;\">\n",
       "      <th></th>\n",
       "      <th>Date</th>\n",
       "      <th>Time</th>\n",
       "      <th>Open</th>\n",
       "      <th>High</th>\n",
       "      <th>Low</th>\n",
       "      <th>Close</th>\n",
       "      <th>Volume</th>\n",
       "    </tr>\n",
       "  </thead>\n",
       "  <tbody>\n",
       "    <tr>\n",
       "      <th>0</th>\n",
       "      <td>2017.01.03</td>\n",
       "      <td>00:00</td>\n",
       "      <td>122.719</td>\n",
       "      <td>122.749</td>\n",
       "      <td>122.656</td>\n",
       "      <td>122.670</td>\n",
       "      <td>19.0</td>\n",
       "    </tr>\n",
       "    <tr>\n",
       "      <th>1</th>\n",
       "      <td>2017.01.03</td>\n",
       "      <td>00:01</td>\n",
       "      <td>122.650</td>\n",
       "      <td>122.720</td>\n",
       "      <td>122.626</td>\n",
       "      <td>122.626</td>\n",
       "      <td>27.0</td>\n",
       "    </tr>\n",
       "    <tr>\n",
       "      <th>2</th>\n",
       "      <td>2017.01.03</td>\n",
       "      <td>00:02</td>\n",
       "      <td>122.676</td>\n",
       "      <td>122.681</td>\n",
       "      <td>122.637</td>\n",
       "      <td>122.681</td>\n",
       "      <td>9.0</td>\n",
       "    </tr>\n",
       "  </tbody>\n",
       "</table>\n",
       "</div>"
      ],
      "text/plain": [
       "         Date   Time     Open     High      Low    Close  Volume\n",
       "0  2017.01.03  00:00  122.719  122.749  122.656  122.670    19.0\n",
       "1  2017.01.03  00:01  122.650  122.720  122.626  122.626    27.0\n",
       "2  2017.01.03  00:02  122.676  122.681  122.637  122.681     9.0"
      ]
     },
     "execution_count": 5,
     "metadata": {},
     "output_type": "execute_result"
    }
   ],
   "source": [
    "df.head(3)"
   ]
  },
  {
   "cell_type": "code",
   "execution_count": 16,
   "metadata": {
    "collapsed": false
   },
   "outputs": [
    {
     "data": {
      "text/plain": [
       "(371280, 7)"
      ]
     },
     "execution_count": 16,
     "metadata": {},
     "output_type": "execute_result"
    }
   ],
   "source": [
    "# 何件のデータが入っているのか？\n",
    "df.shape"
   ]
  },
  {
   "cell_type": "code",
   "execution_count": 18,
   "metadata": {
    "collapsed": false
   },
   "outputs": [
    {
     "data": {
      "text/html": [
       "<div>\n",
       "<table border=\"1\" class=\"dataframe\">\n",
       "  <thead>\n",
       "    <tr style=\"text-align: right;\">\n",
       "      <th></th>\n",
       "      <th>Open</th>\n",
       "      <th>High</th>\n",
       "      <th>Low</th>\n",
       "      <th>Close</th>\n",
       "      <th>Volume</th>\n",
       "    </tr>\n",
       "  </thead>\n",
       "  <tbody>\n",
       "    <tr>\n",
       "      <th>count</th>\n",
       "      <td>371279.000000</td>\n",
       "      <td>371279.00000</td>\n",
       "      <td>371279.000000</td>\n",
       "      <td>371279.000000</td>\n",
       "      <td>371279.000000</td>\n",
       "    </tr>\n",
       "    <tr>\n",
       "      <th>mean</th>\n",
       "      <td>126.655996</td>\n",
       "      <td>126.66719</td>\n",
       "      <td>126.644853</td>\n",
       "      <td>126.656010</td>\n",
       "      <td>125.550656</td>\n",
       "    </tr>\n",
       "    <tr>\n",
       "      <th>std</th>\n",
       "      <td>5.432699</td>\n",
       "      <td>5.43218</td>\n",
       "      <td>5.433242</td>\n",
       "      <td>5.432722</td>\n",
       "      <td>74.440637</td>\n",
       "    </tr>\n",
       "    <tr>\n",
       "      <th>min</th>\n",
       "      <td>114.857000</td>\n",
       "      <td>114.87100</td>\n",
       "      <td>114.845000</td>\n",
       "      <td>114.855000</td>\n",
       "      <td>1.000000</td>\n",
       "    </tr>\n",
       "    <tr>\n",
       "      <th>25%</th>\n",
       "      <td>121.802000</td>\n",
       "      <td>121.81500</td>\n",
       "      <td>121.788000</td>\n",
       "      <td>121.802000</td>\n",
       "      <td>72.000000</td>\n",
       "    </tr>\n",
       "    <tr>\n",
       "      <th>50%</th>\n",
       "      <td>128.166000</td>\n",
       "      <td>128.17900</td>\n",
       "      <td>128.155000</td>\n",
       "      <td>128.166000</td>\n",
       "      <td>113.000000</td>\n",
       "    </tr>\n",
       "    <tr>\n",
       "      <th>75%</th>\n",
       "      <td>132.063000</td>\n",
       "      <td>132.07200</td>\n",
       "      <td>132.053000</td>\n",
       "      <td>132.063000</td>\n",
       "      <td>165.000000</td>\n",
       "    </tr>\n",
       "    <tr>\n",
       "      <th>max</th>\n",
       "      <td>135.507000</td>\n",
       "      <td>135.51000</td>\n",
       "      <td>135.482000</td>\n",
       "      <td>135.507000</td>\n",
       "      <td>582.000000</td>\n",
       "    </tr>\n",
       "  </tbody>\n",
       "</table>\n",
       "</div>"
      ],
      "text/plain": [
       "                Open          High            Low          Close  \\\n",
       "count  371279.000000  371279.00000  371279.000000  371279.000000   \n",
       "mean      126.655996     126.66719     126.644853     126.656010   \n",
       "std         5.432699       5.43218       5.433242       5.432722   \n",
       "min       114.857000     114.87100     114.845000     114.855000   \n",
       "25%       121.802000     121.81500     121.788000     121.802000   \n",
       "50%       128.166000     128.17900     128.155000     128.166000   \n",
       "75%       132.063000     132.07200     132.053000     132.063000   \n",
       "max       135.507000     135.51000     135.482000     135.507000   \n",
       "\n",
       "              Volume  \n",
       "count  371279.000000  \n",
       "mean      125.550656  \n",
       "std        74.440637  \n",
       "min         1.000000  \n",
       "25%        72.000000  \n",
       "50%       113.000000  \n",
       "75%       165.000000  \n",
       "max       582.000000  "
      ]
     },
     "execution_count": 18,
     "metadata": {},
     "output_type": "execute_result"
    }
   ],
   "source": [
    "# 各値の統計値は？\n",
    "df.describe()"
   ]
  },
  {
   "cell_type": "code",
   "execution_count": 35,
   "metadata": {
    "collapsed": false
   },
   "outputs": [
    {
     "data": {
      "text/plain": [
       "0         122.656\n",
       "1         122.626\n",
       "2         122.637\n",
       "3         122.662\n",
       "4         122.662\n",
       "5         122.711\n",
       "6         122.789\n",
       "7         122.758\n",
       "8         122.765\n",
       "9         122.763\n",
       "10        122.764\n",
       "11        122.828\n",
       "12        122.815\n",
       "13        122.807\n",
       "14        122.805\n",
       "15        122.816\n",
       "16        122.848\n",
       "17        122.839\n",
       "18        122.860\n",
       "19        122.872\n",
       "20        122.906\n",
       "21        122.933\n",
       "22        122.943\n",
       "23        122.989\n",
       "24        122.934\n",
       "25        122.929\n",
       "26        122.896\n",
       "27        122.880\n",
       "28        122.858\n",
       "29        122.783\n",
       "           ...   \n",
       "371250    135.167\n",
       "371251    135.196\n",
       "371252    135.188\n",
       "371253    135.191\n",
       "371254    135.192\n",
       "371255    135.173\n",
       "371256    135.183\n",
       "371257    135.194\n",
       "371258    135.191\n",
       "371259    135.197\n",
       "371260    135.206\n",
       "371261    135.196\n",
       "371262    135.187\n",
       "371263    135.191\n",
       "371264    135.187\n",
       "371265    135.196\n",
       "371266    135.190\n",
       "371267    135.175\n",
       "371268    135.145\n",
       "371269    135.126\n",
       "371270    135.113\n",
       "371271    135.125\n",
       "371272    135.138\n",
       "371273    135.176\n",
       "371274    135.182\n",
       "371275    135.185\n",
       "371276    135.175\n",
       "371277    135.150\n",
       "371278    135.117\n",
       "371279        NaN\n",
       "Name: Low, dtype: float64"
      ]
     },
     "execution_count": 35,
     "metadata": {},
     "output_type": "execute_result"
    }
   ],
   "source": [
    "# 行/列にアクセスしてみる\n",
    "df['Low']"
   ]
  },
  {
   "cell_type": "markdown",
   "metadata": {
    "collapsed": true
   },
   "source": [
    "## コードを書いて、一円のアップ／ダウンを抽出する"
   ]
  },
  {
   "cell_type": "code",
   "execution_count": null,
   "metadata": {
    "collapsed": true
   },
   "outputs": [],
   "source": []
  }
 ],
 "metadata": {
  "kernelspec": {
   "display_name": "Python 3",
   "language": "python",
   "name": "python3"
  },
  "language_info": {
   "codemirror_mode": {
    "name": "ipython",
    "version": 3
   },
   "file_extension": ".py",
   "mimetype": "text/x-python",
   "name": "python",
   "nbconvert_exporter": "python",
   "pygments_lexer": "ipython3",
   "version": "3.6.0"
  }
 },
 "nbformat": 4,
 "nbformat_minor": 2
}
